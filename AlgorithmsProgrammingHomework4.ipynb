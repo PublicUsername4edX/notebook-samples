{
 "cells": [
  {
   "cell_type": "markdown",
   "metadata": {},
   "source": [
    "<p>\n",
    "<img src=\"https://www.coursera.org//maestro/api/course/975628/logo\" style=\"width: \n",
    "205px;height: 116px;margin: -15px 0px 8px 1px; box-shadow: 0 1px 1px 0 rgba(0, 0, 0, \n",
    "0.05);\" alt=\"Genomics logo\"><strong><em>   Programming Homework 4 </em></strong>\n",
    "</p>\n",
    "<h1 id=\"Programming Homework 4\"><strong>Shortest Common Superstring \n",
    "and Assembled Genome download</strong><a class=\"anchor-link\" href=\"#Shortest-Common-Superstring-\n",
    "and-Assembled-Genome-download\"></a></h1>\n"
   ]
  },
  {
   "cell_type": "markdown",
   "metadata": {
    "collapsed": true
   },
   "source": [
    "<h4> This notebook reviews shortest common superstring and greedy shortest common superstring as seen in the practicals. Using algorithm approaches such as these or from programming homework 3, you will assemble a mystery virus genome.</h4> <h4> To move through the notebook just run each of the cells.  You should move through the notebook from top to bottom and run all of the cells.  If you skip some cells, later cells might not work as expected.</h4><h4> Note that there are several exercises within this notebook.  You will need to provide solutions for cells that start with: <code># TODO: Replace &lt;FILL IN&gt; with appropriate code</code></h4>\n",
    "<p></p>"
   ]
  },
  {
   "cell_type": "markdown",
   "metadata": {
    "collapsed": true
   },
   "source": [
    "<h4 id=\"-This-notebook-covers:-\"><strong> This notebook covers: </strong><a class=\"anchor-link\" href=\"#-This-notebook-covers:-\"></a></h4>\n",
    "<h4 id=\"Part-1:-SCS\"><em>Part 1:</em> Shortest Common Superstring <a class=\"anchor-link\" href=\"#Part-1:-SCS\"></a></h4>\n",
    "<h4 id=\"Part-2:-Assembly\"><em>Part 2:</em> Virus Assembled Genome <a class=\"anchor-link\" href=\"#Part-2:-Assembly\"></a></h4>\n",
    "<h4 id=\"Part-3:-Fun\"><em>Part 3:</em> Just for Fun! <a class=\"anchor-link\" href=\"#Part-3:-Fun\"></a></h4>\n",
    "<p></p>"
   ]
  },
  {
   "cell_type": "code",
   "execution_count": null,
   "metadata": {
    "collapsed": true
   },
   "outputs": [],
   "source": [
    "labVersion = 'algorithms_week4_v_1_1'"
   ]
  },
  {
   "cell_type": "markdown",
   "metadata": {},
   "source": [
    "<h3 id=\"-Part-1:-Shortest-Common-Superstring\"><strong> Part 1: Shortest Common Superstring </strong><a class=\"anchor-link\" \n",
    "href=\"#-Part-1:-Shortest-Common-Superstring\">Â¶</a></h3>\n",
    "<h4><strong> (1a) Shortest Common Superstring Length </strong></h4>\n",
    "<h4 id=\"-In-a-practical,-we-saw-the-scs-function-(copied-below-along-with-overlap)-for-finding-the-shortest-common-superstring-of-a-set-of-strings.-\">In a practical we saw the scs function (copied below along with overlap) for finding the shortest common \n",
    "superstring of a set of strings.</h4>"
   ]
  },
  {
   "cell_type": "code",
   "execution_count": 6,
   "metadata": {
    "collapsed": true
   },
   "outputs": [],
   "source": [
    "def overlap(a, b, min_length=3):\n",
    "    \"\"\" Return length of longest suffix of 'a' matching\n",
    "        a prefix of 'b' that is at least 'min_length'\n",
    "        characters long.  If no such overlap exists,\n",
    "        return 0. \"\"\"\n",
    "    start = 0  # start all the way at the left\n",
    "    while True:\n",
    "        start = a.find(b[:min_length], start)  # look for b's suffx in a\n",
    "        if start == -1:  # no more occurrences to right\n",
    "            return 0\n",
    "        # found occurrence; check for full suffix/prefix match\n",
    "        if b.startswith(a[start:]):\n",
    "            return len(a)-start\n",
    "        start += 1  # move just past previous match"
   ]
  },
  {
   "cell_type": "code",
   "execution_count": 7,
   "metadata": {
    "collapsed": true
   },
   "outputs": [],
   "source": [
    "import itertools\n",
    "\n",
    "def scs(ss):\n",
    "    \"\"\" Returns shortest common superstring of given strings,\n",
    "        assuming no string is a strict substring of another \"\"\"\n",
    "    shortest_sup = None\n",
    "    for ssperm in itertools.permutations(ss):\n",
    "        sup = ssperm[0]\n",
    "        for i in range(len(ss)-1):\n",
    "            olen = overlap(ssperm[i], ssperm[i+1], min_length=1)\n",
    "            sup += ssperm[i+1][olen:]\n",
    "        if shortest_sup is None or len(sup) < len(shortest_sup):\n",
    "            shortest_sup = sup\n",
    "    return shortest_sup # return shortest"
   ]
  },
  {
   "cell_type": "code",
   "execution_count": 8,
   "metadata": {
    "collapsed": false
   },
   "outputs": [],
   "source": [
    "shortest_sup = scs(['ACGGATGAGC', 'GAGCGGA', 'GAGCGAG'])"
   ]
  },
  {
   "cell_type": "code",
   "execution_count": 9,
   "metadata": {
    "collapsed": false
   },
   "outputs": [
    {
     "name": "stdout",
     "output_type": "stream",
     "text": [
      "1 test passed.\n"
     ]
    }
   ],
   "source": [
    "# TEST Shortest Common Superstring (1a)\n",
    "from test_helper import Test\n",
    "Test.assertEquals(shortest_sup,'ACGGATGAGCGAGCGGA','incorrect value')\n"
   ]
  },
  {
   "cell_type": "code",
   "execution_count": 8,
   "metadata": {
    "collapsed": false
   },
   "outputs": [],
   "source": [
    "# TODO: Replace <FILL IN> with appropriate code\n",
    "# 1a What is the length of the shortest common superstring of the following strings?\n",
    "# CCT, CTT, TGC, TGG, GAT, ATT\n",
    "\n",
    "shortest_length = <FILL IN>\n",
    "\n",
    "# Put this value as your Answer for Question 1"
   ]
  },
  {
   "cell_type": "markdown",
   "metadata": {},
   "source": [
    "<h4><strong> (1b) Different Shortest Common Superstrings</strong> </h3>\n",
    "<h4>It's possible for there to be multiple different shortest common superstrings for the same set of input strings. Consider the input strings ABC, BCA, CAB. One shortest common superstring is ABCAB but another is BCABC and another is CABCA.</h4>"
   ]
  },
  {
   "cell_type": "code",
   "execution_count": 10,
   "metadata": {
    "collapsed": false
   },
   "outputs": [],
   "source": [
    "scs1 = scs(['ABC', 'BCA', 'CAB'])\n",
    "scs2 = scs(['BCA', 'ABC', 'CAB'])\n",
    "scs3 = scs(['CAB', 'BCA', 'ABC'])"
   ]
  },
  {
   "cell_type": "code",
   "execution_count": 11,
   "metadata": {
    "collapsed": false
   },
   "outputs": [
    {
     "name": "stdout",
     "output_type": "stream",
     "text": [
      "1 test passed.\n",
      "1 test passed.\n",
      "1 test passed.\n"
     ]
    }
   ],
   "source": [
    "Test.assertEquals(scs1,'ABCAB','incorrect value')\n",
    "Test.assertEquals(scs2,'BCABC','incorrect value')\n",
    "Test.assertEquals(scs3,'CABCA','incorrect value')"
   ]
  },
  {
   "cell_type": "code",
   "execution_count": 1,
   "metadata": {
    "collapsed": false
   },
   "outputs": [],
   "source": [
    "# TODO: Replace <FILL IN> with appropriate code\n",
    "# 1b How many different shortest common superstrings are there for the same set of input strings? \n",
    "\n",
    "#Hint 1: You can modify the scs function to keep track of this.\n",
    "\n",
    "def scs_list(strings):\n",
    "    \"\"\"Determine the different shortest common superstrings for a given list of strings.\n",
    "\n",
    "    Args:\n",
    "        input strings: list of strings to determine the shortest common superstring\n",
    "            \n",
    "    Returns:\n",
    "        # Returns list of all shortest common superstrings that are tied for shortest.\n",
    "    \"\"\"\n",
    "      <FILL IN>\n",
    "\n",
    "stringsList = <FILL IN>\n"
   ]
  },
  {
   "cell_type": "code",
   "execution_count": 2,
   "metadata": {
    "collapsed": false
   },
   "outputs": [],
   "source": [
    "#Hint 2: You can look at these examples to double-check that your modified scs is working as expected.\n",
    "strings = ['GAT', 'TAG', 'TCG', 'TGC', 'AAT', 'ATA']\n",
    "stringsList = scs_list(strings)"
   ]
  },
  {
   "cell_type": "code",
   "execution_count": 10,
   "metadata": {
    "collapsed": false
   },
   "outputs": [
    {
     "name": "stdout",
     "output_type": "stream",
     "text": [
      "1 test passed.\n"
     ]
    }
   ],
   "source": [
    "import numpy as np\n",
    "\n",
    "Test.assertTrue(np.all(stringsList == ['AATAGATCGTGC','AATAGATGCTCG','AATAGTCGATGC','AATCGATAGTGC','AATGCTCGATAG','TCGAATAGATGC', 'TCGATAGAATGC','TCGATGCAATAG','TGCAATAGATCG','TGCAATCGATAG']),'incorrect value for stringsList')\n",
    "# Test whether all array elements along a given axis evaluate to True."
   ]
  },
  {
   "cell_type": "code",
   "execution_count": null,
   "metadata": {
    "collapsed": true
   },
   "outputs": [],
   "source": [
    "# TODO: Replace <FILL IN> with appropriate code\n",
    "# 1b How many different shortest common superstrings are there for the input strings given in the previous question?\n",
    "\n",
    "# CCT, CTT, TGC, TGG, GAT, ATT\n",
    "\n",
    "different_scs = <FILL IN>\n",
    "\n",
    "# Put this value as your Answer for Question 2"
   ]
  },
  {
   "cell_type": "markdown",
   "metadata": {
    "collapsed": true
   },
   "source": [
    "<h3 id=\"-Part-2:-Virus-Assembled-Genome\"><strong> Part 2: Virus Assembled Genome </strong><a class=\"anchor-link\" \n",
    "href=\"#-Part-2:-Virus-Assembled-Genome\"></a></h3>\n",
    "<h4><strong> (2a) Greedy Shortest Common Superstring </strong></h4>\n",
    "<h4>In a practical we saw the greedy scs function (copied below along with pick_maximal_overlap) to pick the longest overlap to try to get the shortest common superstring of a set of strings.</h4>"
   ]
  },
  {
   "cell_type": "code",
   "execution_count": 11,
   "metadata": {
    "collapsed": true
   },
   "outputs": [],
   "source": [
    "def pick_maximal_overlap(reads, k):\n",
    "    \"\"\" Return a pair of reads from the list with a\n",
    "        maximal suffix/prefix overlap >= k.  Returns\n",
    "        overlap length 0 if there are no such overlaps.\"\"\"\n",
    "    reada, readb = None, None\n",
    "    best_olen = 0\n",
    "    for a, b in itertools.permutations(reads, 2):\n",
    "        olen = overlap(a, b, min_length=k)\n",
    "        if olen > best_olen:\n",
    "            reada, readb = a, b\n",
    "            best_olen = olen\n",
    "    return reada, readb, best_olen"
   ]
  },
  {
   "cell_type": "code",
   "execution_count": 12,
   "metadata": {
    "collapsed": true
   },
   "outputs": [],
   "source": [
    "def greedy_scs(reads, k):\n",
    "    \"\"\" Greedy shortest-common-superstring merge.\n",
    "        Repeat until no edges (overlaps of length >= k)\n",
    "        remain. \"\"\"\n",
    "    read_a, read_b, olen = pick_maximal_overlap(reads, k)\n",
    "    while olen > 0:\n",
    "        reads.remove(read_a)\n",
    "        reads.remove(read_b)\n",
    "        reads.append(read_a + read_b[olen:])\n",
    "        read_a, read_b, olen = pick_maximal_overlap(reads, k)\n",
    "    return ''.join(reads)"
   ]
  },
  {
   "cell_type": "code",
   "execution_count": 13,
   "metadata": {
    "collapsed": true
   },
   "outputs": [],
   "source": [
    "shortest_greedy = greedy_scs(['ABC', 'BCA', 'CAB'], 2)"
   ]
  },
  {
   "cell_type": "code",
   "execution_count": 14,
   "metadata": {
    "collapsed": false
   },
   "outputs": [
    {
     "name": "stdout",
     "output_type": "stream",
     "text": [
      "1 test passed.\n"
     ]
    }
   ],
   "source": [
    "# TEST Greedy Shortest Common Superstring (2a)\n",
    "from test_helper import Test\n",
    "Test.assertEquals(shortest_greedy,'CABCA','incorrect value')"
   ]
  },
  {
   "cell_type": "markdown",
   "metadata": {},
   "source": [
    "<h3><strong> (2b) Assemble Reads from a Mystery Virus </strong> </h3>\n",
    "<h4>Download this FASTQ file containing synthetic sequencing reads from a mystery virus:</h4>\n",
    "<h4> https://d28rh4a8wq0iu5.cloudfront.net/ads1/data/ads1_week4_reads.fq </h4>\n",
    "<h4>All the reads are the same length (100 bases) and are exact copies of substrings from the forward strand of the virus genome. You don't have to worry about sequencing errors, polyploidy, or reads coming from the reverse strand. </h4>\n",
    "<h4>Assemble these reads using one of the approaches discussed, such as greedy shortest common superstring. Since there are many reads, you might consider ways to make the algorithm faster, such as the one discussed in the programming assignment in the  previous module. </h4>"
   ]
  },
  {
   "cell_type": "code",
   "execution_count": null,
   "metadata": {
    "collapsed": true
   },
   "outputs": [],
   "source": [
    "# a function that parses the read and quality strings from a FASTQ file containing sequencing reads\n",
    "def readFastq(filename):\n",
    "    sequences = []\n",
    "    qualities = []\n",
    "    with open(filename) as fh:\n",
    "        while True:\n",
    "            fh.readline()  # skip name line\n",
    "            seq = fh.readline().rstrip()  # read base sequence\n",
    "            fh.readline()  # skip placeholder line\n",
    "            qual = fh.readline().rstrip() # base quality line\n",
    "            if len(seq) == 0:\n",
    "                break\n",
    "            sequences.append(seq)\n",
    "            qualities.append(qual)\n",
    "    return sequences, qualities\n",
    "sequences, qualities = readFastq('ads1_week4_reads.fq')  #modify path as needed"
   ]
  },
  {
   "cell_type": "code",
   "execution_count": null,
   "metadata": {
    "collapsed": true
   },
   "outputs": [],
   "source": [
    "# TODO: Replace <FILL IN> with appropriate code\n",
    "# 2b Assemble the reads from the downloaded FASTQ file seauences \n",
    "\n",
    "#Hint 1: You can use the greedy scs function or programming assignment 3 approach for this.\n",
    "\n",
    "def scs_assembly(sequences, k):\n",
    "    \"\"\"Determine the genome asssembly e.g. as the shortest common superstring for a given list of reads from a FASTQ file\n",
    "\n",
    "    Args:\n",
    "        input reads: list of reads to determine the shortest common superstring assembled genome\n",
    "            \n",
    "    Returns:\n",
    "        # Return the assembled genome \n",
    "    \"\"\"\n",
    "      <FILL IN>\n",
    "\n",
    "assembled_genome = <FILL IN>"
   ]
  },
  {
   "cell_type": "code",
   "execution_count": null,
   "metadata": {
    "collapsed": true
   },
   "outputs": [],
   "source": [
    "# TODO: Replace <FILL IN> with appropriate code\n",
    "# How many As are there in the full, assembled genome?\n",
    "# Hint: the virus genome you are assembling is exactly 15,894 bases long\n",
    "\n",
    "assembled_genome_As = <FILL IN>\n",
    "print 'Counts A: ', assembled_genome_As \n",
    "# Put this value as your Answer for Question 3"
   ]
  },
  {
   "cell_type": "code",
   "execution_count": null,
   "metadata": {
    "collapsed": true
   },
   "outputs": [],
   "source": [
    "# TODO: Replace <FILL IN> with appropriate code\n",
    "# How many Ts are there in the full, assembled genome from the previous question?\n",
    "\n",
    "assembled_genome_Ts = <FILL IN>\n",
    "print 'Counts T: ', assembled_genome_Ts \n",
    "# Put this value as your Answer for Question 4"
   ]
  },
  {
   "cell_type": "markdown",
   "metadata": {},
   "source": [
    "<h3 id=\"-Part-3:-Just-For-Fun\"><strong> Part 3: Just For Fun! </strong><a class=\"anchor-link\" \n",
    "href=\"#-Part-3:-Just-For-Fun\"></a></h3>\n",
    "<h4><strong> What disease is this virus associated with?  </strong></h4>\n",
    "<h4>Hint: you might want to use the BLAST database. http://blast.ncbi.nlm.nih.gov/Blast.cgi</h4>"
   ]
  },
  {
   "cell_type": "code",
   "execution_count": null,
   "metadata": {
    "collapsed": true
   },
   "outputs": [],
   "source": [
    "# TODO: Replace <FILL IN> with appropriate code\n",
    "# output a file of the assembled virus genome in an appropriate format for upload in BLAST search\n",
    "\n",
    "def outputAssembly(assembled, filename, length):\n",
    "    \"\"\"output a file of the assembled virus genome in an appropriate format\n",
    "\n",
    "    Args:\n",
    "        assembled genome string, filename for output, length per line\n",
    "            \n",
    "\n",
    "    \"\"\"\n",
    "      <FILL IN>\n",
    "\n",
    "outputAssembly(<FILL IN>)        "
   ]
  },
  {
   "cell_type": "code",
   "execution_count": null,
   "metadata": {
    "collapsed": true
   },
   "outputs": [],
   "source": [
    "# This question has no point value. It's just for fun!\n",
    "# Give just the name of the disease (one word) for the virus assembled genome.\n",
    "\n",
    "# Put this word as your Answer for Question 5"
   ]
  }
 ],
 "metadata": {
  "kernelspec": {
   "display_name": "Python 2",
   "language": "python",
   "name": "python2"
  },
  "language_info": {
   "codemirror_mode": {
    "name": "ipython",
    "version": 2
   },
   "file_extension": ".py",
   "mimetype": "text/x-python",
   "name": "python",
   "nbconvert_exporter": "python",
   "pygments_lexer": "ipython2",
   "version": "2.7.6"
  }
 },
 "nbformat": 4,
 "nbformat_minor": 0
}

